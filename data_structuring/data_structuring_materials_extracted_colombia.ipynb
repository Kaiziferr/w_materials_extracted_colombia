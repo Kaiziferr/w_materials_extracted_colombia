{
 "cells": [
  {
   "cell_type": "code",
   "execution_count": 1,
   "metadata": {},
   "outputs": [],
   "source": [
    "import warnings\n",
    "from unicodedata import normalize\n",
    "\n",
    "import pandas as pd\n",
    "\n",
    "import seaborn as sns\n",
    "import matplotlib.pyplot as plt\n",
    "\n",
    "import tools as fc"
   ]
  },
  {
   "cell_type": "markdown",
   "metadata": {},
   "source": [
    "**Configuraciones**\n"
   ]
  },
  {
   "cell_type": "code",
   "execution_count": 2,
   "metadata": {},
   "outputs": [],
   "source": [
    "sns.set(style=\"darkgrid\")\n",
    "pd.set_option('display.float_format', '{:,.2f}'.format)\n",
    "title_data = 'Materiales extraidos en Colombia'\n",
    "warnings.filterwarnings(\"ignore\")"
   ]
  },
  {
   "cell_type": "markdown",
   "metadata": {},
   "source": [
    "**Data**"
   ]
  },
  {
   "cell_type": "code",
   "execution_count": 3,
   "metadata": {},
   "outputs": [],
   "source": [
    "url_master =  'https://drive.google.com/uc?id=' \n",
    "url_minero='https://drive.google.com/file/d/10_YGM_dOKzzLsLNkfB_bN5YeLgDHcrUZ/view?usp=sharing'\n",
    "url_department = 'https://drive.google.com/file/d/1fKM6yk_oxEsjJyZhOsSjmdcryN7Y50RK/view?usp=sharing'\n",
    "url_type_miner = 'https://drive.google.com/file/d/1Q69MPSg8joI1nZz6CYwxa0_DdUGquRU2/view?usp=sharing'\n",
    "\n",
    "url_minero =  url_master + url_minero.split('/')[-2]\n",
    "url_department =  url_master + url_department.split('/')[-2]\n",
    "url_type_miner =  url_master + url_type_miner.split('/')[-2]\n",
    "\n",
    "\n",
    "data_miner = pd.read_csv(url_minero, dtype=str)\n",
    "data_department = pd.read_csv(url_department, dtype=str)\n",
    "data_type_miner = pd.read_csv(url_type_miner, dtype=str)"
   ]
  },
  {
   "cell_type": "code",
   "execution_count": 4,
   "metadata": {},
   "outputs": [],
   "source": [
    "data_miner.columns =[\n",
    "        'city',\n",
    "        'state',\n",
    "        'natural_resource',\n",
    "        'name_project',\n",
    "        'year_exploitation',\n",
    "        'quarter',\n",
    "        'unit_measurement',\n",
    "        'type_compensation',\n",
    "        'value_compensation',\n",
    "        'production_quantity'\n",
    "    ]"
   ]
  },
  {
   "cell_type": "code",
   "execution_count": 5,
   "metadata": {},
   "outputs": [],
   "source": [
    "data_department.columns = [\n",
    "    'code_state',\n",
    "    'code_city',\n",
    "    'state',\n",
    "    'city',\n",
    "    'region',\n",
    "    'access_sea'\n",
    "]"
   ]
  },
  {
   "cell_type": "code",
   "execution_count": 6,
   "metadata": {},
   "outputs": [],
   "source": [
    "data_type_miner.columns = [\n",
    "    'natural_resource',\n",
    "    'first_clasification',\n",
    "    'second_clasification',\n",
    "]"
   ]
  },
  {
   "cell_type": "code",
   "execution_count": 7,
   "metadata": {},
   "outputs": [
    {
     "data": {
      "text/html": [
       "<div>\n",
       "<style scoped>\n",
       "    .dataframe tbody tr th:only-of-type {\n",
       "        vertical-align: middle;\n",
       "    }\n",
       "\n",
       "    .dataframe tbody tr th {\n",
       "        vertical-align: top;\n",
       "    }\n",
       "\n",
       "    .dataframe thead th {\n",
       "        text-align: right;\n",
       "    }\n",
       "</style>\n",
       "<table border=\"1\" class=\"dataframe\">\n",
       "  <thead>\n",
       "    <tr style=\"text-align: right;\">\n",
       "      <th></th>\n",
       "      <th>city</th>\n",
       "      <th>state</th>\n",
       "      <th>natural_resource</th>\n",
       "      <th>name_project</th>\n",
       "      <th>year_exploitation</th>\n",
       "      <th>quarter</th>\n",
       "      <th>unit_measurement</th>\n",
       "      <th>type_compensation</th>\n",
       "      <th>value_compensation</th>\n",
       "      <th>production_quantity</th>\n",
       "    </tr>\n",
       "  </thead>\n",
       "  <tbody>\n",
       "    <tr>\n",
       "      <th>0</th>\n",
       "      <td>Medellin</td>\n",
       "      <td>Antioquia</td>\n",
       "      <td>ARCILLAS</td>\n",
       "      <td>PRODUCTORES</td>\n",
       "      <td>2018</td>\n",
       "      <td>Trimestre 4</td>\n",
       "      <td>TONELADAS</td>\n",
       "      <td>REGALIAS</td>\n",
       "      <td>614258</td>\n",
       "      <td>0</td>\n",
       "    </tr>\n",
       "  </tbody>\n",
       "</table>\n",
       "</div>"
      ],
      "text/plain": [
       "       city      state natural_resource name_project year_exploitation  \\\n",
       "0  Medellin  Antioquia         ARCILLAS  PRODUCTORES              2018   \n",
       "\n",
       "       quarter unit_measurement type_compensation value_compensation  \\\n",
       "0  Trimestre 4        TONELADAS          REGALIAS             614258   \n",
       "\n",
       "  production_quantity  \n",
       "0                   0  "
      ]
     },
     "execution_count": 7,
     "metadata": {},
     "output_type": "execute_result"
    }
   ],
   "source": [
    "data_miner.head(1)"
   ]
  },
  {
   "cell_type": "code",
   "execution_count": 8,
   "metadata": {},
   "outputs": [
    {
     "data": {
      "text/html": [
       "<div>\n",
       "<style scoped>\n",
       "    .dataframe tbody tr th:only-of-type {\n",
       "        vertical-align: middle;\n",
       "    }\n",
       "\n",
       "    .dataframe tbody tr th {\n",
       "        vertical-align: top;\n",
       "    }\n",
       "\n",
       "    .dataframe thead th {\n",
       "        text-align: right;\n",
       "    }\n",
       "</style>\n",
       "<table border=\"1\" class=\"dataframe\">\n",
       "  <thead>\n",
       "    <tr style=\"text-align: right;\">\n",
       "      <th></th>\n",
       "      <th>code_state</th>\n",
       "      <th>code_city</th>\n",
       "      <th>state</th>\n",
       "      <th>city</th>\n",
       "      <th>region</th>\n",
       "      <th>access_sea</th>\n",
       "    </tr>\n",
       "  </thead>\n",
       "  <tbody>\n",
       "    <tr>\n",
       "      <th>0</th>\n",
       "      <td>5</td>\n",
       "      <td>5001</td>\n",
       "      <td>ANTIOQUIA</td>\n",
       "      <td>MEDELLÍN</td>\n",
       "      <td>Andina</td>\n",
       "      <td>Si</td>\n",
       "    </tr>\n",
       "  </tbody>\n",
       "</table>\n",
       "</div>"
      ],
      "text/plain": [
       "  code_state code_city      state      city  region access_sea\n",
       "0          5      5001  ANTIOQUIA  MEDELLÍN  Andina         Si"
      ]
     },
     "execution_count": 8,
     "metadata": {},
     "output_type": "execute_result"
    }
   ],
   "source": [
    "data_department.head(1)"
   ]
  },
  {
   "cell_type": "code",
   "execution_count": 9,
   "metadata": {},
   "outputs": [
    {
     "data": {
      "text/html": [
       "<div>\n",
       "<style scoped>\n",
       "    .dataframe tbody tr th:only-of-type {\n",
       "        vertical-align: middle;\n",
       "    }\n",
       "\n",
       "    .dataframe tbody tr th {\n",
       "        vertical-align: top;\n",
       "    }\n",
       "\n",
       "    .dataframe thead th {\n",
       "        text-align: right;\n",
       "    }\n",
       "</style>\n",
       "<table border=\"1\" class=\"dataframe\">\n",
       "  <thead>\n",
       "    <tr style=\"text-align: right;\">\n",
       "      <th></th>\n",
       "      <th>natural_resource</th>\n",
       "      <th>first_clasification</th>\n",
       "      <th>second_clasification</th>\n",
       "    </tr>\n",
       "  </thead>\n",
       "  <tbody>\n",
       "    <tr>\n",
       "      <th>0</th>\n",
       "      <td>ARCILLAS</td>\n",
       "      <td>Rocas sedimentarias</td>\n",
       "      <td>NaN</td>\n",
       "    </tr>\n",
       "  </tbody>\n",
       "</table>\n",
       "</div>"
      ],
      "text/plain": [
       "  natural_resource  first_clasification second_clasification\n",
       "0         ARCILLAS  Rocas sedimentarias                  NaN"
      ]
     },
     "execution_count": 9,
     "metadata": {},
     "output_type": "execute_result"
    }
   ],
   "source": [
    "data_type_miner.head(1)"
   ]
  },
  {
   "cell_type": "markdown",
   "metadata": {},
   "source": [
    "**Data Processing**\n",
    "\n"
   ]
  },
  {
   "cell_type": "markdown",
   "metadata": {},
   "source": [
    "must have consistency in the fields jurisdiction in all tables. that's why  they are  convert the values in upper and without accent"
   ]
  },
  {
   "cell_type": "code",
   "execution_count": 10,
   "metadata": {},
   "outputs": [],
   "source": [
    "data_miner['city'] = data_miner['city'].apply(\n",
    "    lambda x: normalize('NFKD', x.upper()).encode('ASCII', 'ignore').decode() \n",
    ")\n",
    "\n",
    "data_miner['state'] = data_miner['state'].apply(\n",
    "    lambda x: normalize('NFKD', x.upper()).encode('ASCII', 'ignore').decode() \n",
    ")\n",
    "\n",
    "data_department[\n",
    "    'state'] = data_department['state'].apply(\n",
    "    lambda x: normalize('NFKD', x.upper()).encode('ASCII', 'ignore').decode() \n",
    ")\n",
    "\n",
    "data_department[\n",
    "    'city'] = data_department['city'].apply(\n",
    "    lambda x: normalize('NFKD', x.upper()).encode('ASCII', 'ignore').decode() \n",
    ")"
   ]
  },
  {
   "cell_type": "markdown",
   "metadata": {},
   "source": [
    "Normalization of names of the columns"
   ]
  },
  {
   "cell_type": "code",
   "execution_count": 11,
   "metadata": {},
   "outputs": [],
   "source": [
    "columns = fc.normalize_name_columns(data_miner.columns)\n",
    "data_miner.columns = columns\n",
    "\n",
    "columns = fc.normalize_name_columns(data_department.columns)\n",
    "data_department.columns = columns\n",
    "\n",
    "columns = fc.normalize_name_columns(data_type_miner.columns)\n",
    "data_type_miner.columns = columns"
   ]
  },
  {
   "cell_type": "markdown",
   "metadata": {},
   "source": [
    "change the type of columns, since, all types the features  are object"
   ]
  },
  {
   "cell_type": "code",
   "execution_count": 12,
   "metadata": {},
   "outputs": [
    {
     "name": "stdout",
     "output_type": "stream",
     "text": [
      "<class 'pandas.core.frame.DataFrame'>\n",
      "RangeIndex: 55257 entries, 0 to 55256\n",
      "Data columns (total 10 columns):\n",
      " #   Column               Non-Null Count  Dtype \n",
      "---  ------               --------------  ----- \n",
      " 0   city                 55257 non-null  object\n",
      " 1   state                55257 non-null  object\n",
      " 2   natural_resource     55257 non-null  object\n",
      " 3   name_project         55257 non-null  object\n",
      " 4   year_exploitation    55257 non-null  object\n",
      " 5   quarter              55257 non-null  object\n",
      " 6   unit_measurement     55257 non-null  object\n",
      " 7   type_compensation    55257 non-null  object\n",
      " 8   value_compensation   55257 non-null  object\n",
      " 9   production_quantity  55257 non-null  object\n",
      "dtypes: object(10)\n",
      "memory usage: 4.2+ MB\n"
     ]
    }
   ],
   "source": [
    "data_miner.info()"
   ]
  },
  {
   "cell_type": "code",
   "execution_count": 13,
   "metadata": {},
   "outputs": [],
   "source": [
    "data_miner[[\n",
    "    'value_compensation',\n",
    "    'production_quantity']] = data_miner[[\n",
    "    'value_compensation',\n",
    "    'production_quantity']].astype('float64')\n",
    "data_miner[\n",
    "    'year_exploitation'] = data_miner[\n",
    "    'year_exploitation'].astype('int64')"
   ]
  },
  {
   "cell_type": "markdown",
   "metadata": {},
   "source": [
    "Joiner the tables"
   ]
  },
  {
   "cell_type": "code",
   "execution_count": 14,
   "metadata": {},
   "outputs": [],
   "source": [
    "data_processing = pd.merge(\n",
    "    data_miner, \n",
    "    data_department, \n",
    "    on=['city', 'state'], \n",
    "    how='left').drop(\n",
    "        columns=[\n",
    "            'code_state',\n",
    "        ]\n",
    "    ).drop(columns=['access_sea'])"
   ]
  },
  {
   "cell_type": "code",
   "execution_count": 15,
   "metadata": {},
   "outputs": [
    {
     "data": {
      "text/plain": [
       "Index(['city', 'state', 'natural_resource', 'name_project',\n",
       "       'year_exploitation', 'quarter', 'unit_measurement', 'type_compensation',\n",
       "       'value_compensation', 'production_quantity'],\n",
       "      dtype='object')"
      ]
     },
     "execution_count": 15,
     "metadata": {},
     "output_type": "execute_result"
    }
   ],
   "source": [
    "data_miner.columns"
   ]
  },
  {
   "cell_type": "code",
   "execution_count": 16,
   "metadata": {},
   "outputs": [],
   "source": [
    "data_processing = pd.merge(\n",
    "    data_processing,\n",
    "    data_type_miner,\n",
    "    left_on=['natural_resource'],\n",
    "    right_on=['natural_resource'],\n",
    "    how='left'\n",
    ")"
   ]
  },
  {
   "cell_type": "code",
   "execution_count": 17,
   "metadata": {},
   "outputs": [
    {
     "data": {
      "text/plain": [
       "(55257, 14)"
      ]
     },
     "execution_count": 17,
     "metadata": {},
     "output_type": "execute_result"
    }
   ],
   "source": [
    "data_processing.shape"
   ]
  },
  {
   "cell_type": "code",
   "execution_count": 18,
   "metadata": {},
   "outputs": [
    {
     "data": {
      "text/html": [
       "<div>\n",
       "<style scoped>\n",
       "    .dataframe tbody tr th:only-of-type {\n",
       "        vertical-align: middle;\n",
       "    }\n",
       "\n",
       "    .dataframe tbody tr th {\n",
       "        vertical-align: top;\n",
       "    }\n",
       "\n",
       "    .dataframe thead th {\n",
       "        text-align: right;\n",
       "    }\n",
       "</style>\n",
       "<table border=\"1\" class=\"dataframe\">\n",
       "  <thead>\n",
       "    <tr style=\"text-align: right;\">\n",
       "      <th></th>\n",
       "      <th>city</th>\n",
       "      <th>state</th>\n",
       "      <th>natural_resource</th>\n",
       "      <th>name_project</th>\n",
       "      <th>year_exploitation</th>\n",
       "      <th>quarter</th>\n",
       "      <th>unit_measurement</th>\n",
       "      <th>type_compensation</th>\n",
       "      <th>value_compensation</th>\n",
       "      <th>production_quantity</th>\n",
       "      <th>code_city</th>\n",
       "      <th>region</th>\n",
       "      <th>first_clasification</th>\n",
       "      <th>second_clasification</th>\n",
       "    </tr>\n",
       "  </thead>\n",
       "  <tbody>\n",
       "    <tr>\n",
       "      <th>0</th>\n",
       "      <td>MEDELLIN</td>\n",
       "      <td>ANTIOQUIA</td>\n",
       "      <td>ARCILLAS</td>\n",
       "      <td>PRODUCTORES</td>\n",
       "      <td>2018</td>\n",
       "      <td>Trimestre 4</td>\n",
       "      <td>TONELADAS</td>\n",
       "      <td>REGALIAS</td>\n",
       "      <td>614,258.00</td>\n",
       "      <td>0.00</td>\n",
       "      <td>5001</td>\n",
       "      <td>Andina</td>\n",
       "      <td>Rocas sedimentarias</td>\n",
       "      <td>NaN</td>\n",
       "    </tr>\n",
       "  </tbody>\n",
       "</table>\n",
       "</div>"
      ],
      "text/plain": [
       "       city      state natural_resource name_project  year_exploitation  \\\n",
       "0  MEDELLIN  ANTIOQUIA         ARCILLAS  PRODUCTORES               2018   \n",
       "\n",
       "       quarter unit_measurement type_compensation  value_compensation  \\\n",
       "0  Trimestre 4        TONELADAS          REGALIAS          614,258.00   \n",
       "\n",
       "   production_quantity code_city  region  first_clasification  \\\n",
       "0                 0.00      5001  Andina  Rocas sedimentarias   \n",
       "\n",
       "  second_clasification  \n",
       "0                  NaN  "
      ]
     },
     "execution_count": 18,
     "metadata": {},
     "output_type": "execute_result"
    }
   ],
   "source": [
    "data_processing.head(1)"
   ]
  },
  {
   "cell_type": "code",
   "execution_count": 19,
   "metadata": {},
   "outputs": [
    {
     "data": {
      "image/png": "[encoded data removed]",
      "text/plain": [
       "<Figure size 1092.5x500 with 1 Axes>"
      ]
     },
     "metadata": {},
     "output_type": "display_data"
    }
   ],
   "source": [
    "fc.porcentaje_nulos_x_caracteristica(\n",
    "    data_processing, \n",
    "    title=\"Porcentaje de valores nulos\", \n",
    "    xlabel='Porcentaje de nulos', \n",
    "    ylabel='Caracteristicas')"
   ]
  },
  {
   "cell_type": "markdown",
   "metadata": {},
   "source": [
    "- There approximately 15% data null in the features code_city and region\n",
    "- There approximately 58% data null in the features in second_clasification\n",
    "- There are rows nulls because the keys of data of classification resource no exist in  main data"
   ]
  },
  {
   "cell_type": "code",
   "execution_count": 20,
   "metadata": {},
   "outputs": [
    {
     "data": {
      "text/plain": [
       "Index([2012, 2013, 2014, 2015, 2016, 2017, 2018, 2019, 2020, 2021, 2022, 2023], dtype='int64', name='year_exploitation')"
      ]
     },
     "execution_count": 20,
     "metadata": {},
     "output_type": "execute_result"
    }
   ],
   "source": [
    "data_processing['year_exploitation'].value_counts().index.sort_values()"
   ]
  },
  {
   "cell_type": "markdown",
   "metadata": {},
   "source": [
    "- There is data from 2012 to 2023, 11 year"
   ]
  },
  {
   "cell_type": "code",
   "execution_count": 21,
   "metadata": {},
   "outputs": [
    {
     "data": {
      "text/plain": [
       "Index(['ANTIOQUIA', 'BOYACA', 'CHOCO', 'CUNDINAMARCA', 'TOLIMA', 'SANTANDER',\n",
       "       'CAUCA', 'CALDAS', 'BOLIVAR', 'NORTE DE SANTANDER', 'VALLE DEL CAUCA',\n",
       "       'CESAR', 'HUILA', 'NARINO', 'CORDOBA', 'LA GUAJIRA', 'META',\n",
       "       'RISARALDA', 'ATLANTICO', 'CASANARE', 'MAGDALENA', 'BOGOTA, D.C.',\n",
       "       'PUTUMAYO', 'CAQUETA', 'SUCRE', 'QUINDIO', 'ARAUCA', 'GUAINIA',\n",
       "       'GUAVIARE', 'VICHADA', 'VAUPES', 'AMAZONAS'],\n",
       "      dtype='object', name='state')"
      ]
     },
     "execution_count": 21,
     "metadata": {},
     "output_type": "execute_result"
    }
   ],
   "source": [
    "data_processing['state'].value_counts().index"
   ]
  },
  {
   "cell_type": "code",
   "execution_count": 22,
   "metadata": {},
   "outputs": [
    {
     "data": {
      "text/plain": [
       "32"
      ]
     },
     "execution_count": 22,
     "metadata": {},
     "output_type": "execute_result"
    }
   ],
   "source": [
    "len(data_processing['state'].value_counts().index)"
   ]
  },
  {
   "cell_type": "markdown",
   "metadata": {},
   "source": [
    "- There are 32 states in dataset of Colombia"
   ]
  },
  {
   "cell_type": "code",
   "execution_count": 23,
   "metadata": {},
   "outputs": [
    {
     "data": {
      "text/plain": [
       "Index(['ORO', 'PLATA', 'GRAVAS', 'CARBON', 'ARENAS', 'RECEBO', 'CALIZAS',\n",
       "       'PLATINO', 'ARCILLAS MISCELANEAS', 'GRAVAS DE RIO', 'ARENA DE RIO',\n",
       "       'ARCILLAS CERAMICAS', 'GRAVA DE CANTERA', 'ARENA DE CANTERA',\n",
       "       'ARCILLAS', 'ARENAS SILICEAS', 'ESMERALDAS TALLADAS', 'YESO',\n",
       "       'ESMERALDAS EN BRUTO', 'HIERRO', 'NIQUEL', 'DIABASA', 'ROCA FOSFORICA',\n",
       "       'ARCILLAS FERRUGINOSAS', 'MARMOL EN RAJON (RETAL DE MÁRMOL)', 'SAL',\n",
       "       'GRAVAs DE RIO', 'ARCILLAS CAOLINITICA', 'DOLOMITA', 'ASFALTITA',\n",
       "       'MARMOL', 'PUZOLANAS', 'ESMERALDAS', 'ESMERALDAS SEMIPRECIOSA',\n",
       "       'BASALTO', 'COBRE', 'MARMOL EN RAJÓN (RETAL DE MÁRMOL)', 'FELDESPATOS',\n",
       "       'ESMERALDAS ENGASTADA', 'MARMOL (BLOQUE MAYOR O IGUAL A 1 M3)',\n",
       "       'ARCILLAS BENTONITICA', 'BARITA', 'TALCO',\n",
       "       'MARMOL (BLOQUE MENOR A 1 M3)', 'SERPENTINA (SILICATO DE MAGNESIO)',\n",
       "       'MANGANESO', 'MINERAL DE MAGNESIO (MAGNESITA)',\n",
       "       'TRAVERTINO Y CALIZAS CRISTALINAS EN BLOQUE MAYOR O IGUAL A 1 M3',\n",
       "       'BAUXITA', 'TRAVERTINO Y CALIZAS CRISTALINAS EN BLOQUE MENOR A 1 M3',\n",
       "       'CROMO - CROMITA', 'CUARZO', 'MICA', 'SERPENTINA EN RAJON',\n",
       "       'ROCA CORALINA (BLOQUE MENOR A 1 M3)', 'CARBONATO DE CALCIO',\n",
       "       'SERPENTINA (BLOQUE MENOR A 1 M3)', 'AZUFRE',\n",
       "       'PIEDRA ARENISCA-PIEDRA BOGOTANA', 'ARENAS NEGRAS', 'FLUORITA', 'PLOMO',\n",
       "       'VOLFRAMIO', 'NIOBIO', 'ROCA CORALINA (BLOQUE MAYOR O IGUAL A 1 M3)',\n",
       "       'TANTALIO', 'ARCILLAS REFRACTARIAS', 'ESTANO', 'ZINC',\n",
       "       'SERPENTINA (BLOQUE MAYOR O IGUAL A 1 M3)', 'GRAFITO', 'ASBESTO',\n",
       "       'GRANITO (BLOQUE MAYOR O IGUAL A 1 M3)'],\n",
       "      dtype='object', name='natural_resource')"
      ]
     },
     "execution_count": 23,
     "metadata": {},
     "output_type": "execute_result"
    }
   ],
   "source": [
    "data_processing['natural_resource'].value_counts().index"
   ]
  },
  {
   "cell_type": "code",
   "execution_count": 24,
   "metadata": {},
   "outputs": [
    {
     "data": {
      "text/plain": [
       "73"
      ]
     },
     "execution_count": 24,
     "metadata": {},
     "output_type": "execute_result"
    }
   ],
   "source": [
    "len(data_processing['natural_resource'].value_counts().index)"
   ]
  },
  {
   "cell_type": "markdown",
   "metadata": {},
   "source": [
    "- There are 73 natural resource in dataset of Colombia"
   ]
  },
  {
   "cell_type": "code",
   "execution_count": 25,
   "metadata": {},
   "outputs": [
    {
     "data": {
      "text/html": [
       "<div>\n",
       "<style scoped>\n",
       "    .dataframe tbody tr th:only-of-type {\n",
       "        vertical-align: middle;\n",
       "    }\n",
       "\n",
       "    .dataframe tbody tr th {\n",
       "        vertical-align: top;\n",
       "    }\n",
       "\n",
       "    .dataframe thead th {\n",
       "        text-align: right;\n",
       "    }\n",
       "</style>\n",
       "<table border=\"1\" class=\"dataframe\">\n",
       "  <thead>\n",
       "    <tr style=\"text-align: right;\">\n",
       "      <th></th>\n",
       "      <th>city</th>\n",
       "      <th>state</th>\n",
       "      <th>natural_resource</th>\n",
       "      <th>name_project</th>\n",
       "      <th>year_exploitation</th>\n",
       "      <th>quarter</th>\n",
       "      <th>unit_measurement</th>\n",
       "      <th>type_compensation</th>\n",
       "      <th>value_compensation</th>\n",
       "      <th>production_quantity</th>\n",
       "      <th>code_city</th>\n",
       "      <th>region</th>\n",
       "      <th>first_clasification</th>\n",
       "      <th>second_clasification</th>\n",
       "    </tr>\n",
       "  </thead>\n",
       "  <tbody>\n",
       "    <tr>\n",
       "      <th>0</th>\n",
       "      <td>MEDELLIN</td>\n",
       "      <td>ANTIOQUIA</td>\n",
       "      <td>ARCILLAS</td>\n",
       "      <td>PRODUCTORES</td>\n",
       "      <td>2018</td>\n",
       "      <td>Trimestre 4</td>\n",
       "      <td>TONELADAS</td>\n",
       "      <td>REGALIAS</td>\n",
       "      <td>614,258.00</td>\n",
       "      <td>0.00</td>\n",
       "      <td>5001</td>\n",
       "      <td>Andina</td>\n",
       "      <td>Rocas sedimentarias</td>\n",
       "      <td>NaN</td>\n",
       "    </tr>\n",
       "    <tr>\n",
       "      <th>1</th>\n",
       "      <td>MEDELLIN</td>\n",
       "      <td>ANTIOQUIA</td>\n",
       "      <td>ARCILLAS CERAMICAS</td>\n",
       "      <td>PRODUCTORES</td>\n",
       "      <td>2014</td>\n",
       "      <td>Trimestre 4</td>\n",
       "      <td>TONELADAS</td>\n",
       "      <td>REGALIAS</td>\n",
       "      <td>2,036,781.00</td>\n",
       "      <td>14,381.00</td>\n",
       "      <td>5001</td>\n",
       "      <td>Andina</td>\n",
       "      <td>Rocas sedimentarias</td>\n",
       "      <td>NaN</td>\n",
       "    </tr>\n",
       "    <tr>\n",
       "      <th>2</th>\n",
       "      <td>MEDELLIN</td>\n",
       "      <td>ANTIOQUIA</td>\n",
       "      <td>ARCILLAS FERRUGINOSAS</td>\n",
       "      <td>PRODUCTORES</td>\n",
       "      <td>2012</td>\n",
       "      <td>Trimestre 1</td>\n",
       "      <td>TONELADAS</td>\n",
       "      <td>REGALIAS</td>\n",
       "      <td>836,927.00</td>\n",
       "      <td>16,308.00</td>\n",
       "      <td>5001</td>\n",
       "      <td>Andina</td>\n",
       "      <td>Rocas sedimentarias</td>\n",
       "      <td>NaN</td>\n",
       "    </tr>\n",
       "    <tr>\n",
       "      <th>3</th>\n",
       "      <td>MEDELLIN</td>\n",
       "      <td>ANTIOQUIA</td>\n",
       "      <td>ARCILLAS MISCELANEAS</td>\n",
       "      <td>PRODUCTORES</td>\n",
       "      <td>2019</td>\n",
       "      <td>Trimestre 1</td>\n",
       "      <td>TONELADAS</td>\n",
       "      <td>REGALIAS</td>\n",
       "      <td>5,763,839.00</td>\n",
       "      <td>33,348.00</td>\n",
       "      <td>5001</td>\n",
       "      <td>Andina</td>\n",
       "      <td>Rocas sedimentarias</td>\n",
       "      <td>NaN</td>\n",
       "    </tr>\n",
       "    <tr>\n",
       "      <th>4</th>\n",
       "      <td>MEDELLIN</td>\n",
       "      <td>ANTIOQUIA</td>\n",
       "      <td>ARCILLAS MISCELANEAS</td>\n",
       "      <td>PRODUCTORES</td>\n",
       "      <td>2022</td>\n",
       "      <td>Trimestre 1</td>\n",
       "      <td>TONELADAS</td>\n",
       "      <td>REGALIAS</td>\n",
       "      <td>7,187,998.00</td>\n",
       "      <td>28,540.00</td>\n",
       "      <td>5001</td>\n",
       "      <td>Andina</td>\n",
       "      <td>Rocas sedimentarias</td>\n",
       "      <td>NaN</td>\n",
       "    </tr>\n",
       "    <tr>\n",
       "      <th>...</th>\n",
       "      <td>...</td>\n",
       "      <td>...</td>\n",
       "      <td>...</td>\n",
       "      <td>...</td>\n",
       "      <td>...</td>\n",
       "      <td>...</td>\n",
       "      <td>...</td>\n",
       "      <td>...</td>\n",
       "      <td>...</td>\n",
       "      <td>...</td>\n",
       "      <td>...</td>\n",
       "      <td>...</td>\n",
       "      <td>...</td>\n",
       "      <td>...</td>\n",
       "    </tr>\n",
       "    <tr>\n",
       "      <th>55252</th>\n",
       "      <td>CUMARIBO</td>\n",
       "      <td>VICHADA</td>\n",
       "      <td>TANTALIO</td>\n",
       "      <td>PRODUCTORES</td>\n",
       "      <td>2018</td>\n",
       "      <td>Trimestre 2</td>\n",
       "      <td>KILOGRAMOS</td>\n",
       "      <td>REGALIAS</td>\n",
       "      <td>645,095.00</td>\n",
       "      <td>35.00</td>\n",
       "      <td>99773</td>\n",
       "      <td>Orinoquía</td>\n",
       "      <td>Metal</td>\n",
       "      <td>Metal de transicion</td>\n",
       "    </tr>\n",
       "    <tr>\n",
       "      <th>55253</th>\n",
       "      <td>CUMARIBO</td>\n",
       "      <td>VICHADA</td>\n",
       "      <td>ORO</td>\n",
       "      <td>PRODUCTORES</td>\n",
       "      <td>2019</td>\n",
       "      <td>Trimestre 4</td>\n",
       "      <td>GRAMOS</td>\n",
       "      <td>REGALIAS</td>\n",
       "      <td>9,251,843.00</td>\n",
       "      <td>1,752.00</td>\n",
       "      <td>99773</td>\n",
       "      <td>Orinoquía</td>\n",
       "      <td>Metal</td>\n",
       "      <td>Metal de transicion</td>\n",
       "    </tr>\n",
       "    <tr>\n",
       "      <th>55254</th>\n",
       "      <td>CUMARIBO</td>\n",
       "      <td>VICHADA</td>\n",
       "      <td>NIOBIO</td>\n",
       "      <td>PRODUCTORES</td>\n",
       "      <td>2014</td>\n",
       "      <td>Trimestre 4</td>\n",
       "      <td>KILOGRAMOS</td>\n",
       "      <td>REGALIAS</td>\n",
       "      <td>23,396,026.00</td>\n",
       "      <td>6,195.00</td>\n",
       "      <td>99773</td>\n",
       "      <td>Orinoquía</td>\n",
       "      <td>Metal</td>\n",
       "      <td>Metal de transicion</td>\n",
       "    </tr>\n",
       "    <tr>\n",
       "      <th>55255</th>\n",
       "      <td>CUMARIBO</td>\n",
       "      <td>VICHADA</td>\n",
       "      <td>NIOBIO</td>\n",
       "      <td>PRODUCTORES</td>\n",
       "      <td>2016</td>\n",
       "      <td>Trimestre 4</td>\n",
       "      <td>KILOGRAMOS</td>\n",
       "      <td>REGALIAS</td>\n",
       "      <td>12,658,396.00</td>\n",
       "      <td>1,442.00</td>\n",
       "      <td>99773</td>\n",
       "      <td>Orinoquía</td>\n",
       "      <td>Metal</td>\n",
       "      <td>Metal de transicion</td>\n",
       "    </tr>\n",
       "    <tr>\n",
       "      <th>55256</th>\n",
       "      <td>CUMARIBO</td>\n",
       "      <td>VICHADA</td>\n",
       "      <td>VOLFRAMIO</td>\n",
       "      <td>PRODUCTORES</td>\n",
       "      <td>2016</td>\n",
       "      <td>Trimestre 4</td>\n",
       "      <td>KILOGRAMOS</td>\n",
       "      <td>REGALIAS</td>\n",
       "      <td>8,351,500.00</td>\n",
       "      <td>2,840.00</td>\n",
       "      <td>99773</td>\n",
       "      <td>Orinoquía</td>\n",
       "      <td>Metal</td>\n",
       "      <td>Metal de transicion</td>\n",
       "    </tr>\n",
       "  </tbody>\n",
       "</table>\n",
       "<p>55257 rows × 14 columns</p>\n",
       "</div>"
      ],
      "text/plain": [
       "           city      state       natural_resource name_project  \\\n",
       "0      MEDELLIN  ANTIOQUIA               ARCILLAS  PRODUCTORES   \n",
       "1      MEDELLIN  ANTIOQUIA     ARCILLAS CERAMICAS  PRODUCTORES   \n",
       "2      MEDELLIN  ANTIOQUIA  ARCILLAS FERRUGINOSAS  PRODUCTORES   \n",
       "3      MEDELLIN  ANTIOQUIA   ARCILLAS MISCELANEAS  PRODUCTORES   \n",
       "4      MEDELLIN  ANTIOQUIA   ARCILLAS MISCELANEAS  PRODUCTORES   \n",
       "...         ...        ...                    ...          ...   \n",
       "55252  CUMARIBO    VICHADA               TANTALIO  PRODUCTORES   \n",
       "55253  CUMARIBO    VICHADA                    ORO  PRODUCTORES   \n",
       "55254  CUMARIBO    VICHADA                 NIOBIO  PRODUCTORES   \n",
       "55255  CUMARIBO    VICHADA                 NIOBIO  PRODUCTORES   \n",
       "55256  CUMARIBO    VICHADA              VOLFRAMIO  PRODUCTORES   \n",
       "\n",
       "       year_exploitation      quarter unit_measurement type_compensation  \\\n",
       "0                   2018  Trimestre 4        TONELADAS          REGALIAS   \n",
       "1                   2014  Trimestre 4        TONELADAS          REGALIAS   \n",
       "2                   2012  Trimestre 1        TONELADAS          REGALIAS   \n",
       "3                   2019  Trimestre 1        TONELADAS          REGALIAS   \n",
       "4                   2022  Trimestre 1        TONELADAS          REGALIAS   \n",
       "...                  ...          ...              ...               ...   \n",
       "55252               2018  Trimestre 2       KILOGRAMOS          REGALIAS   \n",
       "55253               2019  Trimestre 4           GRAMOS          REGALIAS   \n",
       "55254               2014  Trimestre 4       KILOGRAMOS          REGALIAS   \n",
       "55255               2016  Trimestre 4       KILOGRAMOS          REGALIAS   \n",
       "55256               2016  Trimestre 4       KILOGRAMOS          REGALIAS   \n",
       "\n",
       "       value_compensation  production_quantity code_city     region  \\\n",
       "0              614,258.00                 0.00      5001     Andina   \n",
       "1            2,036,781.00            14,381.00      5001     Andina   \n",
       "2              836,927.00            16,308.00      5001     Andina   \n",
       "3            5,763,839.00            33,348.00      5001     Andina   \n",
       "4            7,187,998.00            28,540.00      5001     Andina   \n",
       "...                   ...                  ...       ...        ...   \n",
       "55252          645,095.00                35.00     99773  Orinoquía   \n",
       "55253        9,251,843.00             1,752.00     99773  Orinoquía   \n",
       "55254       23,396,026.00             6,195.00     99773  Orinoquía   \n",
       "55255       12,658,396.00             1,442.00     99773  Orinoquía   \n",
       "55256        8,351,500.00             2,840.00     99773  Orinoquía   \n",
       "\n",
       "       first_clasification second_clasification  \n",
       "0      Rocas sedimentarias                  NaN  \n",
       "1      Rocas sedimentarias                  NaN  \n",
       "2      Rocas sedimentarias                  NaN  \n",
       "3      Rocas sedimentarias                  NaN  \n",
       "4      Rocas sedimentarias                  NaN  \n",
       "...                    ...                  ...  \n",
       "55252                Metal  Metal de transicion  \n",
       "55253                Metal  Metal de transicion  \n",
       "55254                Metal  Metal de transicion  \n",
       "55255                Metal  Metal de transicion  \n",
       "55256                Metal  Metal de transicion  \n",
       "\n",
       "[55257 rows x 14 columns]"
      ]
     },
     "execution_count": 25,
     "metadata": {},
     "output_type": "execute_result"
    }
   ],
   "source": [
    "data_processing"
   ]
  },
  {
   "cell_type": "code",
   "execution_count": 26,
   "metadata": {},
   "outputs": [
    {
     "data": {
      "text/plain": [
       "Index(['ORO', 'PLATA', 'GRAVAS', 'CARBON', 'ARENAS', 'RECEBO', 'CALIZAS',\n",
       "       'PLATINO', 'ARCILLAS MISCELANEAS', 'GRAVAS DE RIO', 'ARENA DE RIO',\n",
       "       'ARCILLAS CERAMICAS', 'GRAVA DE CANTERA', 'ARENA DE CANTERA',\n",
       "       'ARCILLAS', 'ARENAS SILICEAS', 'ESMERALDAS TALLADAS', 'YESO',\n",
       "       'ESMERALDAS EN BRUTO', 'HIERRO', 'NIQUEL', 'DIABASA', 'ROCA FOSFORICA',\n",
       "       'ARCILLAS FERRUGINOSAS', 'MARMOL EN RAJON (RETAL DE MÁRMOL)', 'SAL',\n",
       "       'GRAVAs DE RIO', 'ARCILLAS CAOLINITICA', 'DOLOMITA', 'ASFALTITA',\n",
       "       'MARMOL', 'PUZOLANAS', 'ESMERALDAS', 'ESMERALDAS SEMIPRECIOSA',\n",
       "       'BASALTO', 'COBRE', 'MARMOL EN RAJÓN (RETAL DE MÁRMOL)', 'FELDESPATOS',\n",
       "       'ESMERALDAS ENGASTADA', 'MARMOL (BLOQUE MAYOR O IGUAL A 1 M3)',\n",
       "       'ARCILLAS BENTONITICA', 'BARITA', 'TALCO',\n",
       "       'MARMOL (BLOQUE MENOR A 1 M3)', 'SERPENTINA (SILICATO DE MAGNESIO)',\n",
       "       'MANGANESO', 'MINERAL DE MAGNESIO (MAGNESITA)',\n",
       "       'TRAVERTINO Y CALIZAS CRISTALINAS EN BLOQUE MAYOR O IGUAL A 1 M3',\n",
       "       'BAUXITA', 'TRAVERTINO Y CALIZAS CRISTALINAS EN BLOQUE MENOR A 1 M3',\n",
       "       'CROMO - CROMITA', 'CUARZO', 'MICA', 'SERPENTINA EN RAJON',\n",
       "       'ROCA CORALINA (BLOQUE MENOR A 1 M3)', 'CARBONATO DE CALCIO',\n",
       "       'SERPENTINA (BLOQUE MENOR A 1 M3)', 'AZUFRE',\n",
       "       'PIEDRA ARENISCA-PIEDRA BOGOTANA', 'ARENAS NEGRAS', 'FLUORITA', 'PLOMO',\n",
       "       'VOLFRAMIO', 'NIOBIO', 'ROCA CORALINA (BLOQUE MAYOR O IGUAL A 1 M3)',\n",
       "       'TANTALIO', 'ARCILLAS REFRACTARIAS', 'ESTANO', 'ZINC',\n",
       "       'SERPENTINA (BLOQUE MAYOR O IGUAL A 1 M3)', 'GRAFITO', 'ASBESTO',\n",
       "       'GRANITO (BLOQUE MAYOR O IGUAL A 1 M3)'],\n",
       "      dtype='object', name='natural_resource')"
      ]
     },
     "execution_count": 26,
     "metadata": {},
     "output_type": "execute_result"
    }
   ],
   "source": [
    "data_processing['natural_resource'].value_counts().index"
   ]
  },
  {
   "cell_type": "code",
   "execution_count": 27,
   "metadata": {},
   "outputs": [
    {
     "data": {
      "text/plain": [
       "Index(['city', 'state', 'natural_resource', 'name_project',\n",
       "       'year_exploitation', 'quarter', 'unit_measurement', 'type_compensation',\n",
       "       'value_compensation', 'production_quantity', 'code_city', 'region',\n",
       "       'first_clasification', 'second_clasification'],\n",
       "      dtype='object')"
      ]
     },
     "execution_count": 27,
     "metadata": {},
     "output_type": "execute_result"
    }
   ],
   "source": [
    "data_processing.columns"
   ]
  },
  {
   "cell_type": "code",
   "execution_count": 28,
   "metadata": {},
   "outputs": [
    {
     "data": {
      "text/plain": [
       "Index(['PRODUCTORES', 'MINAS PAZ DEL RIO S.A.', 'Cerro Matoso S.A.',\n",
       "       'PRODECO - CALENTURITAS', 'Drummond - El Descanso',\n",
       "       'Drummond - La Loma', 'CERREJON CONTRATO DE ASOCIACION',\n",
       "       'CERREJON  CZN - CEMT', 'CERREJON -  OREGANAL',\n",
       "       'CARBONES DEL CERREJON COMUNIDAD - RPP', 'COLSALMINAS LTDA',\n",
       "       'CERREJON - PATILLA', 'CONSORCIO MINERO UNIDO S.A.', 'EL HATILLO CNR',\n",
       "       'CARBONES DE LA JAGUA S.A.', 'BRINSA S.A.', 'CNR - LA FRANCIA',\n",
       "       'CARBONES EL TESORO', 'Drummond - El Corozo', 'NORCARBON',\n",
       "       'SALCOL S.A.', 'SALINAS DE GALERAS SAS',\n",
       "       'CARBONES DEL CERREJON COMUNIDAD - RPP CAYPA',\n",
       "       'BIG GROUP SALINAS COLOMBIA - MANAURE', 'ACERIAS PAZ DEL RIO',\n",
       "       'HOLCIM (COLOMBIA) S A'],\n",
       "      dtype='object', name='name_project')"
      ]
     },
     "execution_count": 28,
     "metadata": {},
     "output_type": "execute_result"
    }
   ],
   "source": [
    "data_processing['name_project'].value_counts().index"
   ]
  },
  {
   "cell_type": "code",
   "execution_count": 29,
   "metadata": {},
   "outputs": [
    {
     "data": {
      "text/plain": [
       "26"
      ]
     },
     "execution_count": 29,
     "metadata": {},
     "output_type": "execute_result"
    }
   ],
   "source": [
    "len(data_processing['name_project'].value_counts().index)"
   ]
  },
  {
   "cell_type": "markdown",
   "metadata": {},
   "source": [
    "There are 26 natural resource exploitation projects in dataset of Colombia"
   ]
  },
  {
   "cell_type": "markdown",
   "metadata": {},
   "source": [
    "`The years 2020, 2021, 2022 are selected of data to process. The two quarter of 2023, is will useding for validation`"
   ]
  },
  {
   "cell_type": "code",
   "execution_count": 30,
   "metadata": {},
   "outputs": [],
   "source": [
    "data_processing = data_processing[\n",
    "    (data_processing['year_exploitation'] > 2019)\n",
    "    &\n",
    "    (data_processing['year_exploitation'] < 2023)\n",
    "]"
   ]
  },
  {
   "cell_type": "markdown",
   "metadata": {},
   "source": [
    "**Transactions**"
   ]
  },
  {
   "cell_type": "code",
   "execution_count": 31,
   "metadata": {},
   "outputs": [],
   "source": [
    "function_dictionary = {\n",
    "    'value_compensation':['sum', 'count']\n",
    "}\n",
    "\n",
    "data_transaction = data_processing.groupby([\n",
    "    'city',\n",
    "    'state',\n",
    "    'year_exploitation',\n",
    "    'quarter'\n",
    "]).aggregate(\n",
    "    function_dictionary\n",
    ")\n",
    "\n",
    "data_transaction.columns = [\n",
    "    'sum_value_compensation',\n",
    "    'count_n_transactions'\n",
    "]\n",
    "\n",
    "data_transaction.reset_index(inplace=True)\n",
    "\n",
    "\n",
    "function_dictionary = {\n",
    "    'sum_value_compensation':['sum', 'mean', 'median', 'std'],\n",
    "    'count_n_transactions': ['sum', 'mean', 'median', 'std'],\n",
    "    'quarter': ['count']\n",
    "}\n",
    "\n",
    "data_transaction = data_transaction.groupby([\n",
    "    'city',\n",
    "    'state'\n",
    "]).aggregate(function_dictionary)\n",
    "\n",
    "\n",
    "data_transaction.columns = [\n",
    "    'sum_transactions_value',\n",
    "    'mean_transactions_value',\n",
    "    'median_transactions_value',\n",
    "    'std_transactions_value',\n",
    "    'sum_n_transactions',\n",
    "    'mean_n_transactions',\n",
    "    'median_n_transactions',\n",
    "    'std_n_transactions',\n",
    "    'count_quarter'\n",
    "]\n",
    "\n",
    "\n",
    "data_transaction.reset_index(inplace=True)"
   ]
  },
  {
   "cell_type": "code",
   "execution_count": 32,
   "metadata": {},
   "outputs": [
    {
     "data": {
      "text/html": [
       "<div>\n",
       "<style scoped>\n",
       "    .dataframe tbody tr th:only-of-type {\n",
       "        vertical-align: middle;\n",
       "    }\n",
       "\n",
       "    .dataframe tbody tr th {\n",
       "        vertical-align: top;\n",
       "    }\n",
       "\n",
       "    .dataframe thead th {\n",
       "        text-align: right;\n",
       "    }\n",
       "</style>\n",
       "<table border=\"1\" class=\"dataframe\">\n",
       "  <thead>\n",
       "    <tr style=\"text-align: right;\">\n",
       "      <th></th>\n",
       "      <th>city</th>\n",
       "      <th>state</th>\n",
       "      <th>sum_transactions_value</th>\n",
       "      <th>mean_transactions_value</th>\n",
       "      <th>median_transactions_value</th>\n",
       "      <th>std_transactions_value</th>\n",
       "      <th>sum_n_transactions</th>\n",
       "      <th>mean_n_transactions</th>\n",
       "      <th>median_n_transactions</th>\n",
       "      <th>std_n_transactions</th>\n",
       "      <th>count_quarter</th>\n",
       "    </tr>\n",
       "  </thead>\n",
       "  <tbody>\n",
       "    <tr>\n",
       "      <th>0</th>\n",
       "      <td>ABEJORRAL</td>\n",
       "      <td>ANTIOQUIA</td>\n",
       "      <td>7,388,574.00</td>\n",
       "      <td>2,462,858.00</td>\n",
       "      <td>1,550,222.00</td>\n",
       "      <td>2,825,024.15</td>\n",
       "      <td>5</td>\n",
       "      <td>1.67</td>\n",
       "      <td>1.00</td>\n",
       "      <td>1.15</td>\n",
       "      <td>3</td>\n",
       "    </tr>\n",
       "    <tr>\n",
       "      <th>1</th>\n",
       "      <td>ABREGO</td>\n",
       "      <td>NORTE DE SANTANDER</td>\n",
       "      <td>11,285,674.00</td>\n",
       "      <td>1,128,567.40</td>\n",
       "      <td>1,039,796.50</td>\n",
       "      <td>663,967.08</td>\n",
       "      <td>13</td>\n",
       "      <td>1.30</td>\n",
       "      <td>1.00</td>\n",
       "      <td>0.48</td>\n",
       "      <td>10</td>\n",
       "    </tr>\n",
       "    <tr>\n",
       "      <th>2</th>\n",
       "      <td>ABRIAQUI</td>\n",
       "      <td>ANTIOQUIA</td>\n",
       "      <td>284,761,273.00</td>\n",
       "      <td>25,887,388.45</td>\n",
       "      <td>18,377,670.00</td>\n",
       "      <td>21,757,545.39</td>\n",
       "      <td>25</td>\n",
       "      <td>2.27</td>\n",
       "      <td>2.00</td>\n",
       "      <td>0.65</td>\n",
       "      <td>11</td>\n",
       "    </tr>\n",
       "    <tr>\n",
       "      <th>3</th>\n",
       "      <td>ACACIAS</td>\n",
       "      <td>META</td>\n",
       "      <td>411,309,931.00</td>\n",
       "      <td>34,275,827.58</td>\n",
       "      <td>34,697,943.50</td>\n",
       "      <td>23,671,575.77</td>\n",
       "      <td>34</td>\n",
       "      <td>2.83</td>\n",
       "      <td>3.00</td>\n",
       "      <td>0.58</td>\n",
       "      <td>12</td>\n",
       "    </tr>\n",
       "    <tr>\n",
       "      <th>4</th>\n",
       "      <td>ACHI</td>\n",
       "      <td>BOLIVAR</td>\n",
       "      <td>557,468,046.00</td>\n",
       "      <td>185,822,682.00</td>\n",
       "      <td>206,435,884.00</td>\n",
       "      <td>62,837,094.30</td>\n",
       "      <td>6</td>\n",
       "      <td>2.00</td>\n",
       "      <td>2.00</td>\n",
       "      <td>0.00</td>\n",
       "      <td>3</td>\n",
       "    </tr>\n",
       "    <tr>\n",
       "      <th>...</th>\n",
       "      <td>...</td>\n",
       "      <td>...</td>\n",
       "      <td>...</td>\n",
       "      <td>...</td>\n",
       "      <td>...</td>\n",
       "      <td>...</td>\n",
       "      <td>...</td>\n",
       "      <td>...</td>\n",
       "      <td>...</td>\n",
       "      <td>...</td>\n",
       "      <td>...</td>\n",
       "    </tr>\n",
       "    <tr>\n",
       "      <th>655</th>\n",
       "      <td>ZAPATOCA</td>\n",
       "      <td>SANTANDER</td>\n",
       "      <td>1,320,919,255.00</td>\n",
       "      <td>132,091,925.50</td>\n",
       "      <td>96,247,964.50</td>\n",
       "      <td>95,513,965.14</td>\n",
       "      <td>18</td>\n",
       "      <td>1.80</td>\n",
       "      <td>2.00</td>\n",
       "      <td>0.42</td>\n",
       "      <td>10</td>\n",
       "    </tr>\n",
       "    <tr>\n",
       "      <th>656</th>\n",
       "      <td>ZARAGOZA</td>\n",
       "      <td>ANTIOQUIA</td>\n",
       "      <td>18,231,947,267.00</td>\n",
       "      <td>1,519,328,938.92</td>\n",
       "      <td>1,594,686,921.50</td>\n",
       "      <td>684,854,640.94</td>\n",
       "      <td>46</td>\n",
       "      <td>3.83</td>\n",
       "      <td>4.00</td>\n",
       "      <td>1.47</td>\n",
       "      <td>12</td>\n",
       "    </tr>\n",
       "    <tr>\n",
       "      <th>657</th>\n",
       "      <td>ZARZAL</td>\n",
       "      <td>VALLE DEL CAUCA</td>\n",
       "      <td>8,017,493.00</td>\n",
       "      <td>1,002,186.62</td>\n",
       "      <td>1,225,260.50</td>\n",
       "      <td>873,077.84</td>\n",
       "      <td>10</td>\n",
       "      <td>1.25</td>\n",
       "      <td>1.00</td>\n",
       "      <td>0.46</td>\n",
       "      <td>8</td>\n",
       "    </tr>\n",
       "    <tr>\n",
       "      <th>658</th>\n",
       "      <td>ZIPAQUIRA</td>\n",
       "      <td>CUNDINAMARCA</td>\n",
       "      <td>1,362,296,573.00</td>\n",
       "      <td>123,845,143.00</td>\n",
       "      <td>75,934,154.00</td>\n",
       "      <td>125,032,525.79</td>\n",
       "      <td>31</td>\n",
       "      <td>2.82</td>\n",
       "      <td>3.00</td>\n",
       "      <td>1.40</td>\n",
       "      <td>11</td>\n",
       "    </tr>\n",
       "    <tr>\n",
       "      <th>659</th>\n",
       "      <td>ZONA BANANERA</td>\n",
       "      <td>MAGDALENA</td>\n",
       "      <td>142,400.00</td>\n",
       "      <td>71,200.00</td>\n",
       "      <td>71,200.00</td>\n",
       "      <td>7,636.75</td>\n",
       "      <td>4</td>\n",
       "      <td>2.00</td>\n",
       "      <td>2.00</td>\n",
       "      <td>0.00</td>\n",
       "      <td>2</td>\n",
       "    </tr>\n",
       "  </tbody>\n",
       "</table>\n",
       "<p>660 rows × 11 columns</p>\n",
       "</div>"
      ],
      "text/plain": [
       "              city               state  sum_transactions_value  \\\n",
       "0        ABEJORRAL           ANTIOQUIA            7,388,574.00   \n",
       "1           ABREGO  NORTE DE SANTANDER           11,285,674.00   \n",
       "2         ABRIAQUI           ANTIOQUIA          284,761,273.00   \n",
       "3          ACACIAS                META          411,309,931.00   \n",
       "4             ACHI             BOLIVAR          557,468,046.00   \n",
       "..             ...                 ...                     ...   \n",
       "655       ZAPATOCA           SANTANDER        1,320,919,255.00   \n",
       "656       ZARAGOZA           ANTIOQUIA       18,231,947,267.00   \n",
       "657         ZARZAL     VALLE DEL CAUCA            8,017,493.00   \n",
       "658      ZIPAQUIRA        CUNDINAMARCA        1,362,296,573.00   \n",
       "659  ZONA BANANERA           MAGDALENA              142,400.00   \n",
       "\n",
       "     mean_transactions_value  median_transactions_value  \\\n",
       "0               2,462,858.00               1,550,222.00   \n",
       "1               1,128,567.40               1,039,796.50   \n",
       "2              25,887,388.45              18,377,670.00   \n",
       "3              34,275,827.58              34,697,943.50   \n",
       "4             185,822,682.00             206,435,884.00   \n",
       "..                       ...                        ...   \n",
       "655           132,091,925.50              96,247,964.50   \n",
       "656         1,519,328,938.92           1,594,686,921.50   \n",
       "657             1,002,186.62               1,225,260.50   \n",
       "658           123,845,143.00              75,934,154.00   \n",
       "659                71,200.00                  71,200.00   \n",
       "\n",
       "     std_transactions_value  sum_n_transactions  mean_n_transactions  \\\n",
       "0              2,825,024.15                   5                 1.67   \n",
       "1                663,967.08                  13                 1.30   \n",
       "2             21,757,545.39                  25                 2.27   \n",
       "3             23,671,575.77                  34                 2.83   \n",
       "4             62,837,094.30                   6                 2.00   \n",
       "..                      ...                 ...                  ...   \n",
       "655           95,513,965.14                  18                 1.80   \n",
       "656          684,854,640.94                  46                 3.83   \n",
       "657              873,077.84                  10                 1.25   \n",
       "658          125,032,525.79                  31                 2.82   \n",
       "659                7,636.75                   4                 2.00   \n",
       "\n",
       "     median_n_transactions  std_n_transactions  count_quarter  \n",
       "0                     1.00                1.15              3  \n",
       "1                     1.00                0.48             10  \n",
       "2                     2.00                0.65             11  \n",
       "3                     3.00                0.58             12  \n",
       "4                     2.00                0.00              3  \n",
       "..                     ...                 ...            ...  \n",
       "655                   2.00                0.42             10  \n",
       "656                   4.00                1.47             12  \n",
       "657                   1.00                0.46              8  \n",
       "658                   3.00                1.40             11  \n",
       "659                   2.00                0.00              2  \n",
       "\n",
       "[660 rows x 11 columns]"
      ]
     },
     "execution_count": 32,
     "metadata": {},
     "output_type": "execute_result"
    }
   ],
   "source": [
    "data_transaction"
   ]
  },
  {
   "cell_type": "code",
   "execution_count": 33,
   "metadata": {},
   "outputs": [],
   "source": [
    "data_transaction.to_csv('../data_estructurada/data_transaction.csv')"
   ]
  },
  {
   "cell_type": "markdown",
   "metadata": {},
   "source": [
    "fig, ax = plt.subplots(figsize=(10,10))\n",
    "\n",
    "sns.scatterplot(\n",
    "    data=data_processing, \n",
    "    x=\"sum_transactions_value\", \n",
    "    y=\"sum_n_transactions\",\n",
    "    hue='first_clasification',\n",
    "    alpha=0.8,\n",
    "    ax=ax,\n",
    "    palette=colores)\n",
    "\n",
    "ax2 = plt.axes([-.3, .4, .3, .5])\n",
    "sns.scatterplot(\n",
    "    data_processing, \n",
    "    x=\"sum_transactions_value\", \n",
    "    y=\"sum_n_transactions\",\n",
    "    hue='first_clasification',\n",
    "    ax=ax2,\n",
    "    alpha=0.3,\n",
    "    palette=colores)\n",
    "ax2.set_ylim([0.0,5000000.0])\n",
    "ax2.set_xlim([0.0,200000000000.0])\n",
    "ax2.set_title('zoom')\n",
    "\n",
    "plt.show()"
   ]
  },
  {
   "cell_type": "markdown",
   "metadata": {},
   "source": [
    "**Type compensation**"
   ]
  },
  {
   "cell_type": "code",
   "execution_count": 34,
   "metadata": {},
   "outputs": [],
   "source": [
    "function_dictionary = {\n",
    "    'value_compensation': ['sum', 'count']\n",
    "}\n",
    "\n",
    "\n",
    "data_type_compesation = data_processing.groupby([\n",
    "    'city',\n",
    "    'state',\n",
    "    'year_exploitation',\n",
    "    'quarter',\n",
    "    'type_compensation'\n",
    "]).aggregate(\n",
    "    function_dictionary\n",
    ")\n",
    "\n",
    "data_type_compesation.columns = [\n",
    "    'sum_value_compensation',\n",
    "    'count_n_transactions'\n",
    "]\n",
    "\n",
    "data_type_compesation.reset_index(inplace=True)\n",
    "\n",
    "function_dictionary = {\n",
    "    'sum_value_compensation':['sum', 'mean', 'median', 'std'],\n",
    "    'count_n_transactions': ['sum', 'mean', 'median', 'std'],\n",
    "    'quarter': ['count']\n",
    "}\n",
    "\n",
    "\n",
    "data_type_compesation = data_type_compesation.groupby([\n",
    "    'city',\n",
    "    'state',\n",
    "    'type_compensation'\n",
    "]).aggregate(function_dictionary)\n",
    "\n",
    "data_type_compesation.columns = [\n",
    "    'sum_transactions_value',\n",
    "    'mean_transactions_value',\n",
    "    'median_transactions_value',\n",
    "    'std_transactions_value',\n",
    "    'sum_n_transactions',\n",
    "    'mean_n_transactions',\n",
    "    'median_n_transactions',\n",
    "    'std_n_transactions',\n",
    "    'count_quarter'\n",
    "]\n",
    "\n",
    "data_type_compesation.reset_index(inplace=True)"
   ]
  },
  {
   "cell_type": "code",
   "execution_count": 35,
   "metadata": {},
   "outputs": [],
   "source": [
    "data_type_compesation.to_csv('../data_estructurada/data_transaction_type_compensation.csv')"
   ]
  },
  {
   "cell_type": "markdown",
   "metadata": {},
   "source": [
    "**Type resource**"
   ]
  },
  {
   "cell_type": "code",
   "execution_count": 36,
   "metadata": {},
   "outputs": [],
   "source": [
    "function_dictionary = {\n",
    "    'value_compensation': ['sum', 'count']\n",
    "}\n",
    "\n",
    "\n",
    "data_natural_resource = data_processing.groupby([\n",
    "    'city',\n",
    "    'state',\n",
    "    'year_exploitation',\n",
    "    'quarter',\n",
    "    'natural_resource'\n",
    "]).aggregate(\n",
    "    function_dictionary\n",
    ")\n",
    "\n",
    "data_natural_resource.columns = [\n",
    "    'sum_value_compensation',\n",
    "    'count_n_transactions'\n",
    "]\n",
    "\n",
    "data_natural_resource.reset_index(inplace=True)\n",
    "\n",
    "\n",
    "function_dictionary = {\n",
    "    'sum_value_compensation':['sum', 'mean', 'median', 'std'],\n",
    "    'count_n_transactions': ['sum', 'mean', 'median', 'std'],\n",
    "    'quarter': ['count']\n",
    "}\n",
    "\n",
    "\n",
    "data_natural_resource = data_natural_resource.groupby([\n",
    "    'city',\n",
    "    'state',\n",
    "    'natural_resource'\n",
    "]).aggregate(function_dictionary)\n",
    "\n",
    "data_natural_resource.columns = [\n",
    "    'sum_transactions_value',\n",
    "    'mean_transactions_value',\n",
    "    'median_transactions_value',\n",
    "    'std_transactions_value',\n",
    "    'sum_n_transactions',\n",
    "    'mean_n_transactions',\n",
    "    'median_n_transactions',\n",
    "    'std_n_transactions',\n",
    "    'count_quarter'\n",
    "]\n",
    "\n",
    "data_natural_resource.reset_index(inplace=True)\n"
   ]
  },
  {
   "cell_type": "code",
   "execution_count": 37,
   "metadata": {},
   "outputs": [],
   "source": [
    "data_natural_resource.to_csv('../data_estructurada/data_natural_resource.csv')"
   ]
  },
  {
   "cell_type": "markdown",
   "metadata": {},
   "source": [
    "**Production**"
   ]
  },
  {
   "cell_type": "code",
   "execution_count": 38,
   "metadata": {},
   "outputs": [],
   "source": [
    "function_dictionary = {\n",
    "    'value_compensation': ['sum', 'count'],\n",
    "    'production_quantity': ['sum']\n",
    "}\n",
    "\n",
    "\n",
    "data_production = data_processing.groupby([\n",
    "    'city',\n",
    "    'state',\n",
    "    'year_exploitation',\n",
    "    'quarter',\n",
    "    'natural_resource',\n",
    "    'production_quantity'\n",
    "]).aggregate(\n",
    "    function_dictionary\n",
    ")\n",
    "\n",
    "data_production.columns = [\n",
    "    'sum_value_compensation',\n",
    "    'count_n_transactions',\n",
    "    'sum_production_quantity'\n",
    "\n",
    "]\n",
    "\n",
    "data_production.reset_index(inplace=True)\n",
    "\n",
    "\n",
    "function_dictionary = {\n",
    "    'sum_value_compensation':['sum', 'mean', 'median', 'std'],\n",
    "    'count_n_transactions': ['sum', 'mean', 'median', 'std'],\n",
    "    'sum_production_quantity':['sum', 'mean', 'median', 'std'],\n",
    "    'quarter': ['count']\n",
    "}\n",
    "\n",
    "\n",
    "data_production = data_production.groupby([\n",
    "    'city',\n",
    "    'state',\n",
    "    'natural_resource',\n",
    "    'production_quantity'\n",
    "]).aggregate(function_dictionary)\n",
    "\n",
    "\n",
    "data_production\n",
    "\n",
    "data_production.columns = [\n",
    "    'sum_transactions_value',\n",
    "    'mean_transactions_value',\n",
    "    'median_transactions_value',\n",
    "    'std_transactions_value',\n",
    "    'sum_n_transactions',\n",
    "    'mean_n_transactions',\n",
    "    'median_n_transactions',\n",
    "    'std_n_transactions',\n",
    "    'sum_production_quantity',\n",
    "    'mean_production_quantity',\n",
    "    'median_production_quantity',\n",
    "    'std_production_quantity',\n",
    "    'count_quarter'\n",
    "]\n",
    "\n",
    "data_production.reset_index(inplace=True)\n"
   ]
  },
  {
   "cell_type": "code",
   "execution_count": 39,
   "metadata": {},
   "outputs": [],
   "source": [
    "data_production.to_csv('../data_estructurada/data_production.csv')"
   ]
  },
  {
   "cell_type": "markdown",
   "metadata": {},
   "source": [
    "**Project extraction natural resource**"
   ]
  },
  {
   "cell_type": "code",
   "execution_count": 40,
   "metadata": {},
   "outputs": [],
   "source": [
    "function_dictionary = {\n",
    "    'value_compensation':['sum', 'count']\n",
    "}\n",
    "\n",
    "data_transaction_project = data_processing.groupby([\n",
    "    'city',\n",
    "    'state',\n",
    "    'year_exploitation',\n",
    "    'quarter',\n",
    "    'name_project',\n",
    "    'natural_resource',\n",
    "    'production_quantity',\n",
    "    'type_compensation'\n",
    "]).aggregate(\n",
    "    function_dictionary\n",
    ")\n",
    "\n",
    "data_transaction_project.columns = [\n",
    "    'sum_value_compensation',\n",
    "    'count_n_transactions'\n",
    "]\n",
    "\n",
    "data_transaction_project.reset_index(inplace=True)\n",
    "\n",
    "\n",
    "function_dictionary = {\n",
    "    'sum_value_compensation':['sum', 'mean', 'median', 'std'],\n",
    "    'count_n_transactions': ['sum', 'mean', 'median', 'std'],\n",
    "    'quarter': ['count']\n",
    "}\n",
    "\n",
    "data_transaction_project = data_transaction_project.groupby([\n",
    "    'city',\n",
    "    'state',\n",
    "    'name_project',\n",
    "    'natural_resource',\n",
    "    'production_quantity',\n",
    "    'type_compensation'\n",
    "]).aggregate(function_dictionary)\n",
    "\n",
    "\n",
    "data_transaction_project.columns = [\n",
    "    'sum_transactions_value',\n",
    "    'mean_transactions_value',\n",
    "    'median_transactions_value',\n",
    "    'std_transactions_value',\n",
    "    'sum_n_transactions',\n",
    "    'mean_n_transactions',\n",
    "    'median_n_transactions',\n",
    "    'std_n_transactions',\n",
    "    'count_quarter'\n",
    "]\n",
    "\n",
    "\n",
    "data_transaction_project.reset_index(inplace=True)"
   ]
  },
  {
   "cell_type": "code",
   "execution_count": 41,
   "metadata": {},
   "outputs": [],
   "source": [
    "data_transaction_project.to_csv('../data_estructurada/data_transaction_project.csv')"
   ]
  }
 ],
 "metadata": {
  "kernelspec": {
   "display_name": "venv",
   "language": "python",
   "name": "python3"
  },
  "language_info": {
   "codemirror_mode": {
    "name": "ipython",
    "version": 3
   },
   "file_extension": ".py",
   "mimetype": "text/x-python",
   "name": "python",
   "nbconvert_exporter": "python",
   "pygments_lexer": "ipython3",
   "version": "3.10.12"
  }
 },
 "nbformat": 4,
 "nbformat_minor": 2
}
