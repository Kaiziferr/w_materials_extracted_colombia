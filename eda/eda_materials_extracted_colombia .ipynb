{
 "cells": [
  {
   "cell_type": "code",
   "execution_count": 1,
   "metadata": {},
   "outputs": [],
   "source": [
    "import pandas as pd\n",
    "\n",
    "import seaborn as sns\n",
    "import matplotlib.pyplot as plt\n",
    "\n",
    "import warnings\n",
    "from unicodedata import normalize\n",
    "\n",
    "import tools as fc"
   ]
  },
  {
   "cell_type": "markdown",
   "metadata": {},
   "source": [
    "**Configuraciones**\n"
   ]
  },
  {
   "cell_type": "code",
   "execution_count": 2,
   "metadata": {},
   "outputs": [],
   "source": [
    "sns.set(style=\"darkgrid\")\n",
    "pd.set_option('display.float_format', '{:,.2f}'.format)\n",
    "title_data = 'Materiales extraidos en Colombia'\n",
    "warnings.filterwarnings(\"ignore\")"
   ]
  },
  {
   "cell_type": "markdown",
   "metadata": {},
   "source": [
    "**Data**"
   ]
  },
  {
   "cell_type": "code",
   "execution_count": 3,
   "metadata": {},
   "outputs": [],
   "source": [
    "url_master =  'https://drive.google.com/uc?id=' \n",
    "url_minero='https://drive.google.com/file/d/10_YGM_dOKzzLsLNkfB_bN5YeLgDHcrUZ/view?usp=sharing'\n",
    "url_department = 'https://drive.google.com/file/d/1fKM6yk_oxEsjJyZhOsSjmdcryN7Y50RK/view?usp=sharing'\n",
    "url_type_miner = 'https://drive.google.com/file/d/1Q69MPSg8joI1nZz6CYwxa0_DdUGquRU2/view?usp=sharing'\n",
    "\n",
    "url_minero =  url_master + url_minero.split('/')[-2]\n",
    "url_department =  url_master + url_department.split('/')[-2]\n",
    "url_type_miner =  url_master + url_type_miner.split('/')[-2]\n",
    "\n",
    "\n",
    "data_miner = pd.read_csv(url_minero, dtype=str)\n",
    "data_department = pd.read_csv(url_department, dtype=str)\n",
    "data_type_miner = pd.read_csv(url_type_miner, dtype=str)"
   ]
  },
  {
   "cell_type": "code",
   "execution_count": 4,
   "metadata": {},
   "outputs": [],
   "source": [
    "data_miner.columns =[\n",
    "        'city',\n",
    "        'state',\n",
    "        'natural_resource',\n",
    "        'name_project',\n",
    "        'year_exploitation',\n",
    "        'quarter',\n",
    "        'unit_measurement',\n",
    "        'type_compensation',\n",
    "        'value_compensation',\n",
    "        'production_quantity'\n",
    "    ]"
   ]
  },
  {
   "cell_type": "code",
   "execution_count": 5,
   "metadata": {},
   "outputs": [],
   "source": [
    "data_department.columns = [\n",
    "    'code_state',\n",
    "    'code_city',\n",
    "    'state',\n",
    "    'city',\n",
    "    'region',\n",
    "    'access_sea'\n",
    "]"
   ]
  },
  {
   "cell_type": "code",
   "execution_count": 6,
   "metadata": {},
   "outputs": [],
   "source": [
    "data_type_miner.columns = [\n",
    "    'natural_resource',\n",
    "    'first_clasification',\n",
    "    'second_clasification',\n",
    "]"
   ]
  },
  {
   "cell_type": "code",
   "execution_count": 7,
   "metadata": {},
   "outputs": [
    {
     "data": {
      "text/html": [
       "<div>\n",
       "<style scoped>\n",
       "    .dataframe tbody tr th:only-of-type {\n",
       "        vertical-align: middle;\n",
       "    }\n",
       "\n",
       "    .dataframe tbody tr th {\n",
       "        vertical-align: top;\n",
       "    }\n",
       "\n",
       "    .dataframe thead th {\n",
       "        text-align: right;\n",
       "    }\n",
       "</style>\n",
       "<table border=\"1\" class=\"dataframe\">\n",
       "  <thead>\n",
       "    <tr style=\"text-align: right;\">\n",
       "      <th></th>\n",
       "      <th>city</th>\n",
       "      <th>state</th>\n",
       "      <th>natural_resource</th>\n",
       "      <th>name_project</th>\n",
       "      <th>year_exploitation</th>\n",
       "      <th>quarter</th>\n",
       "      <th>unit_measurement</th>\n",
       "      <th>type_compensation</th>\n",
       "      <th>value_compensation</th>\n",
       "      <th>production_quantity</th>\n",
       "    </tr>\n",
       "  </thead>\n",
       "  <tbody>\n",
       "    <tr>\n",
       "      <th>0</th>\n",
       "      <td>Medellin</td>\n",
       "      <td>Antioquia</td>\n",
       "      <td>ARCILLAS</td>\n",
       "      <td>PRODUCTORES</td>\n",
       "      <td>2018</td>\n",
       "      <td>Trimestre 4</td>\n",
       "      <td>TONELADAS</td>\n",
       "      <td>REGALIAS</td>\n",
       "      <td>614258</td>\n",
       "      <td>0</td>\n",
       "    </tr>\n",
       "  </tbody>\n",
       "</table>\n",
       "</div>"
      ],
      "text/plain": [
       "       city      state natural_resource name_project year_exploitation  \\\n",
       "0  Medellin  Antioquia         ARCILLAS  PRODUCTORES              2018   \n",
       "\n",
       "       quarter unit_measurement type_compensation value_compensation  \\\n",
       "0  Trimestre 4        TONELADAS          REGALIAS             614258   \n",
       "\n",
       "  production_quantity  \n",
       "0                   0  "
      ]
     },
     "execution_count": 7,
     "metadata": {},
     "output_type": "execute_result"
    }
   ],
   "source": [
    "data_miner.head(1)"
   ]
  },
  {
   "cell_type": "code",
   "execution_count": 8,
   "metadata": {},
   "outputs": [
    {
     "data": {
      "text/html": [
       "<div>\n",
       "<style scoped>\n",
       "    .dataframe tbody tr th:only-of-type {\n",
       "        vertical-align: middle;\n",
       "    }\n",
       "\n",
       "    .dataframe tbody tr th {\n",
       "        vertical-align: top;\n",
       "    }\n",
       "\n",
       "    .dataframe thead th {\n",
       "        text-align: right;\n",
       "    }\n",
       "</style>\n",
       "<table border=\"1\" class=\"dataframe\">\n",
       "  <thead>\n",
       "    <tr style=\"text-align: right;\">\n",
       "      <th></th>\n",
       "      <th>code_state</th>\n",
       "      <th>code_city</th>\n",
       "      <th>state</th>\n",
       "      <th>city</th>\n",
       "      <th>region</th>\n",
       "      <th>access_sea</th>\n",
       "    </tr>\n",
       "  </thead>\n",
       "  <tbody>\n",
       "    <tr>\n",
       "      <th>0</th>\n",
       "      <td>5</td>\n",
       "      <td>5001</td>\n",
       "      <td>ANTIOQUIA</td>\n",
       "      <td>MEDELLÍN</td>\n",
       "      <td>Andina</td>\n",
       "      <td>Si</td>\n",
       "    </tr>\n",
       "  </tbody>\n",
       "</table>\n",
       "</div>"
      ],
      "text/plain": [
       "  code_state code_city      state      city  region access_sea\n",
       "0          5      5001  ANTIOQUIA  MEDELLÍN  Andina         Si"
      ]
     },
     "execution_count": 8,
     "metadata": {},
     "output_type": "execute_result"
    }
   ],
   "source": [
    "data_department.head(1)"
   ]
  },
  {
   "cell_type": "code",
   "execution_count": 9,
   "metadata": {},
   "outputs": [
    {
     "data": {
      "text/html": [
       "<div>\n",
       "<style scoped>\n",
       "    .dataframe tbody tr th:only-of-type {\n",
       "        vertical-align: middle;\n",
       "    }\n",
       "\n",
       "    .dataframe tbody tr th {\n",
       "        vertical-align: top;\n",
       "    }\n",
       "\n",
       "    .dataframe thead th {\n",
       "        text-align: right;\n",
       "    }\n",
       "</style>\n",
       "<table border=\"1\" class=\"dataframe\">\n",
       "  <thead>\n",
       "    <tr style=\"text-align: right;\">\n",
       "      <th></th>\n",
       "      <th>natural_resource</th>\n",
       "      <th>first_clasification</th>\n",
       "      <th>second_clasification</th>\n",
       "    </tr>\n",
       "  </thead>\n",
       "  <tbody>\n",
       "    <tr>\n",
       "      <th>0</th>\n",
       "      <td>ARCILLAS</td>\n",
       "      <td>Rocas sedimentarias</td>\n",
       "      <td>NaN</td>\n",
       "    </tr>\n",
       "  </tbody>\n",
       "</table>\n",
       "</div>"
      ],
      "text/plain": [
       "  natural_resource  first_clasification second_clasification\n",
       "0         ARCILLAS  Rocas sedimentarias                  NaN"
      ]
     },
     "execution_count": 9,
     "metadata": {},
     "output_type": "execute_result"
    }
   ],
   "source": [
    "data_type_miner.head(1)"
   ]
  },
  {
   "cell_type": "markdown",
   "metadata": {},
   "source": [
    "**Data Processing**\n",
    "\n"
   ]
  },
  {
   "cell_type": "markdown",
   "metadata": {},
   "source": [
    "must have consistency in the fields jurisdiction in all tables. that's why  they are  convert the values in upper and without accent"
   ]
  },
  {
   "cell_type": "code",
   "execution_count": 10,
   "metadata": {},
   "outputs": [],
   "source": [
    "data_miner['city'] = data_miner['city'].apply(\n",
    "    lambda x: normalize('NFKD', x.upper()).encode('ASCII', 'ignore').decode() \n",
    ")\n",
    "\n",
    "data_miner['state'] = data_miner['state'].apply(\n",
    "    lambda x: normalize('NFKD', x.upper()).encode('ASCII', 'ignore').decode() \n",
    ")\n",
    "\n",
    "data_department[\n",
    "    'state'] = data_department['state'].apply(\n",
    "    lambda x: normalize('NFKD', x.upper()).encode('ASCII', 'ignore').decode() \n",
    ")\n",
    "\n",
    "data_department[\n",
    "    'city'] = data_department['city'].apply(\n",
    "    lambda x: normalize('NFKD', x.upper()).encode('ASCII', 'ignore').decode() \n",
    ")"
   ]
  },
  {
   "cell_type": "markdown",
   "metadata": {},
   "source": [
    "Normalization of names of the columns"
   ]
  },
  {
   "cell_type": "code",
   "execution_count": 11,
   "metadata": {},
   "outputs": [],
   "source": [
    "columns = fc.normalize_name_columns(data_miner.columns)\n",
    "data_miner.columns = columns\n",
    "\n",
    "columns = fc.normalize_name_columns(data_department.columns)\n",
    "data_department.columns = columns\n",
    "\n",
    "columns = fc.normalize_name_columns(data_type_miner.columns)\n",
    "data_type_miner.columns = columns"
   ]
  },
  {
   "cell_type": "markdown",
   "metadata": {},
   "source": [
    "change the type of columns, since, all types the features  are object"
   ]
  },
  {
   "cell_type": "code",
   "execution_count": 12,
   "metadata": {},
   "outputs": [
    {
     "name": "stdout",
     "output_type": "stream",
     "text": [
      "<class 'pandas.core.frame.DataFrame'>\n",
      "RangeIndex: 55257 entries, 0 to 55256\n",
      "Data columns (total 10 columns):\n",
      " #   Column               Non-Null Count  Dtype \n",
      "---  ------               --------------  ----- \n",
      " 0   city                 55257 non-null  object\n",
      " 1   state                55257 non-null  object\n",
      " 2   natural_resource     55257 non-null  object\n",
      " 3   name_project         55257 non-null  object\n",
      " 4   year_exploitation    55257 non-null  object\n",
      " 5   quarter              55257 non-null  object\n",
      " 6   unit_measurement     55257 non-null  object\n",
      " 7   type_compensation    55257 non-null  object\n",
      " 8   value_compensation   55257 non-null  object\n",
      " 9   production_quantity  55257 non-null  object\n",
      "dtypes: object(10)\n",
      "memory usage: 4.2+ MB\n"
     ]
    }
   ],
   "source": [
    "data_miner.info()"
   ]
  },
  {
   "cell_type": "code",
   "execution_count": 13,
   "metadata": {},
   "outputs": [],
   "source": [
    "data_miner[[\n",
    "    'value_compensation',\n",
    "    'production_quantity']] = data_miner[[\n",
    "    'value_compensation',\n",
    "    'production_quantity']].astype('float64')\n",
    "data_miner[\n",
    "    'year_exploitation'] = data_miner[\n",
    "    'year_exploitation'].astype('int64')"
   ]
  },
  {
   "cell_type": "markdown",
   "metadata": {},
   "source": [
    "Joiner the tables"
   ]
  },
  {
   "cell_type": "code",
   "execution_count": 14,
   "metadata": {},
   "outputs": [],
   "source": [
    "data_processing = pd.merge(\n",
    "    data_miner, \n",
    "    data_department, \n",
    "    on=['city', 'state'], \n",
    "    how='left').drop(\n",
    "        columns=[\n",
    "            'code_state',\n",
    "        ]\n",
    "    )"
   ]
  },
  {
   "cell_type": "code",
   "execution_count": 15,
   "metadata": {},
   "outputs": [
    {
     "data": {
      "text/plain": [
       "Index(['city', 'state', 'natural_resource', 'name_project',\n",
       "       'year_exploitation', 'quarter', 'unit_measurement', 'type_compensation',\n",
       "       'value_compensation', 'production_quantity'],\n",
       "      dtype='object')"
      ]
     },
     "execution_count": 15,
     "metadata": {},
     "output_type": "execute_result"
    }
   ],
   "source": [
    "data_miner.columns"
   ]
  },
  {
   "cell_type": "code",
   "execution_count": 16,
   "metadata": {},
   "outputs": [],
   "source": [
    "data_processing = pd.merge(\n",
    "    data_processing,\n",
    "    data_type_miner,\n",
    "    left_on=['natural_resource'],\n",
    "    right_on=['natural_resource'],\n",
    "    how='left'\n",
    ")"
   ]
  },
  {
   "cell_type": "code",
   "execution_count": 17,
   "metadata": {},
   "outputs": [
    {
     "data": {
      "text/plain": [
       "(55257, 15)"
      ]
     },
     "execution_count": 17,
     "metadata": {},
     "output_type": "execute_result"
    }
   ],
   "source": [
    "data_processing.shape"
   ]
  },
  {
   "cell_type": "code",
   "execution_count": 18,
   "metadata": {},
   "outputs": [
    {
     "data": {
      "text/html": [
       "<div>\n",
       "<style scoped>\n",
       "    .dataframe tbody tr th:only-of-type {\n",
       "        vertical-align: middle;\n",
       "    }\n",
       "\n",
       "    .dataframe tbody tr th {\n",
       "        vertical-align: top;\n",
       "    }\n",
       "\n",
       "    .dataframe thead th {\n",
       "        text-align: right;\n",
       "    }\n",
       "</style>\n",
       "<table border=\"1\" class=\"dataframe\">\n",
       "  <thead>\n",
       "    <tr style=\"text-align: right;\">\n",
       "      <th></th>\n",
       "      <th>city</th>\n",
       "      <th>state</th>\n",
       "      <th>natural_resource</th>\n",
       "      <th>name_project</th>\n",
       "      <th>year_exploitation</th>\n",
       "      <th>quarter</th>\n",
       "      <th>unit_measurement</th>\n",
       "      <th>type_compensation</th>\n",
       "      <th>value_compensation</th>\n",
       "      <th>production_quantity</th>\n",
       "      <th>code_city</th>\n",
       "      <th>region</th>\n",
       "      <th>access_sea</th>\n",
       "      <th>first_clasification</th>\n",
       "      <th>second_clasification</th>\n",
       "    </tr>\n",
       "  </thead>\n",
       "  <tbody>\n",
       "    <tr>\n",
       "      <th>0</th>\n",
       "      <td>MEDELLIN</td>\n",
       "      <td>ANTIOQUIA</td>\n",
       "      <td>ARCILLAS</td>\n",
       "      <td>PRODUCTORES</td>\n",
       "      <td>2018</td>\n",
       "      <td>Trimestre 4</td>\n",
       "      <td>TONELADAS</td>\n",
       "      <td>REGALIAS</td>\n",
       "      <td>614,258.00</td>\n",
       "      <td>0.00</td>\n",
       "      <td>5001</td>\n",
       "      <td>Andina</td>\n",
       "      <td>Si</td>\n",
       "      <td>Rocas sedimentarias</td>\n",
       "      <td>NaN</td>\n",
       "    </tr>\n",
       "  </tbody>\n",
       "</table>\n",
       "</div>"
      ],
      "text/plain": [
       "       city      state natural_resource name_project  year_exploitation  \\\n",
       "0  MEDELLIN  ANTIOQUIA         ARCILLAS  PRODUCTORES               2018   \n",
       "\n",
       "       quarter unit_measurement type_compensation  value_compensation  \\\n",
       "0  Trimestre 4        TONELADAS          REGALIAS          614,258.00   \n",
       "\n",
       "   production_quantity code_city  region access_sea  first_clasification  \\\n",
       "0                 0.00      5001  Andina         Si  Rocas sedimentarias   \n",
       "\n",
       "  second_clasification  \n",
       "0                  NaN  "
      ]
     },
     "execution_count": 18,
     "metadata": {},
     "output_type": "execute_result"
    }
   ],
   "source": [
    "data_processing.head(1)"
   ]
  },
  {
   "cell_type": "code",
   "execution_count": 19,
   "metadata": {},
   "outputs": [],
   "source": [
    "# EDA"
   ]
  },
  {
   "cell_type": "markdown",
   "metadata": {},
   "source": [
    "**Transactions**"
   ]
  },
  {
   "cell_type": "code",
   "execution_count": 20,
   "metadata": {},
   "outputs": [],
   "source": [
    "function_dictionary = {\n",
    "    'value_compensation':['sum', 'count']\n",
    "}\n",
    "\n",
    "data_transaction = data_processing.groupby([\n",
    "    'city',\n",
    "    'state',\n",
    "    'year_exploitation',\n",
    "    'quarter'\n",
    "]).aggregate(\n",
    "    function_dictionary\n",
    ")\n",
    "\n",
    "data_transaction.columns = [\n",
    "    'sum_value_compensation',\n",
    "    'count_n_transactions'\n",
    "]\n",
    "\n",
    "data_transaction.reset_index(inplace=True)\n",
    "\n",
    "\n",
    "function_dictionary = {\n",
    "    'sum_value_compensation':['sum', 'mean', 'median', 'std'],\n",
    "    'count_n_transactions': ['sum', 'mean', 'median', 'std'],\n",
    "    'quarter': ['count']\n",
    "}\n",
    "\n",
    "data_transaction = data_transaction.groupby([\n",
    "    'city',\n",
    "    'state'\n",
    "]).aggregate(function_dictionary)\n",
    "\n",
    "\n",
    "data_transaction.columns = [\n",
    "    'sum_transactions_value',\n",
    "    'mean_transactions_value',\n",
    "    'median_transactions_value',\n",
    "    'std_transactions_value',\n",
    "    'sum_n_transactions',\n",
    "    'mean_n_transactions',\n",
    "    'median_n_transactions',\n",
    "    'std_n_transactions',\n",
    "    'count_quarter'\n",
    "]\n",
    "\n",
    "\n",
    "data_transaction.reset_index(inplace=True)"
   ]
  },
  {
   "cell_type": "code",
   "execution_count": 21,
   "metadata": {},
   "outputs": [
    {
     "data": {
      "text/html": [
       "<div>\n",
       "<style scoped>\n",
       "    .dataframe tbody tr th:only-of-type {\n",
       "        vertical-align: middle;\n",
       "    }\n",
       "\n",
       "    .dataframe tbody tr th {\n",
       "        vertical-align: top;\n",
       "    }\n",
       "\n",
       "    .dataframe thead th {\n",
       "        text-align: right;\n",
       "    }\n",
       "</style>\n",
       "<table border=\"1\" class=\"dataframe\">\n",
       "  <thead>\n",
       "    <tr style=\"text-align: right;\">\n",
       "      <th></th>\n",
       "      <th>city</th>\n",
       "      <th>state</th>\n",
       "      <th>sum_transactions_value</th>\n",
       "      <th>mean_transactions_value</th>\n",
       "      <th>median_transactions_value</th>\n",
       "      <th>std_transactions_value</th>\n",
       "      <th>sum_n_transactions</th>\n",
       "      <th>mean_n_transactions</th>\n",
       "      <th>median_n_transactions</th>\n",
       "      <th>std_n_transactions</th>\n",
       "      <th>count_quarter</th>\n",
       "    </tr>\n",
       "  </thead>\n",
       "  <tbody>\n",
       "    <tr>\n",
       "      <th>0</th>\n",
       "      <td>ABEJORRAL</td>\n",
       "      <td>ANTIOQUIA</td>\n",
       "      <td>367,731,680.00</td>\n",
       "      <td>12,257,722.67</td>\n",
       "      <td>5,682,074.50</td>\n",
       "      <td>17,677,666.01</td>\n",
       "      <td>61</td>\n",
       "      <td>2.03</td>\n",
       "      <td>2.00</td>\n",
       "      <td>1.10</td>\n",
       "      <td>30</td>\n",
       "    </tr>\n",
       "    <tr>\n",
       "      <th>1</th>\n",
       "      <td>ABREGO</td>\n",
       "      <td>NORTE DE SANTANDER</td>\n",
       "      <td>39,316,798.00</td>\n",
       "      <td>1,191,418.12</td>\n",
       "      <td>1,041,894.00</td>\n",
       "      <td>875,453.51</td>\n",
       "      <td>43</td>\n",
       "      <td>1.30</td>\n",
       "      <td>1.00</td>\n",
       "      <td>0.53</td>\n",
       "      <td>33</td>\n",
       "    </tr>\n",
       "    <tr>\n",
       "      <th>2</th>\n",
       "      <td>ABRIAQUI</td>\n",
       "      <td>ANTIOQUIA</td>\n",
       "      <td>409,521,514.00</td>\n",
       "      <td>14,121,431.52</td>\n",
       "      <td>9,186,757.00</td>\n",
       "      <td>17,024,154.20</td>\n",
       "      <td>96</td>\n",
       "      <td>3.31</td>\n",
       "      <td>2.00</td>\n",
       "      <td>1.67</td>\n",
       "      <td>29</td>\n",
       "    </tr>\n",
       "    <tr>\n",
       "      <th>3</th>\n",
       "      <td>ACACIAS</td>\n",
       "      <td>META</td>\n",
       "      <td>1,048,395,762.00</td>\n",
       "      <td>24,381,296.79</td>\n",
       "      <td>19,119,631.00</td>\n",
       "      <td>17,974,589.55</td>\n",
       "      <td>129</td>\n",
       "      <td>3.00</td>\n",
       "      <td>3.00</td>\n",
       "      <td>1.33</td>\n",
       "      <td>43</td>\n",
       "    </tr>\n",
       "    <tr>\n",
       "      <th>4</th>\n",
       "      <td>ACANDI</td>\n",
       "      <td>CHOCO</td>\n",
       "      <td>11,553,386,769.00</td>\n",
       "      <td>641,854,820.50</td>\n",
       "      <td>423,595,357.50</td>\n",
       "      <td>803,314,986.18</td>\n",
       "      <td>47</td>\n",
       "      <td>2.61</td>\n",
       "      <td>3.00</td>\n",
       "      <td>1.33</td>\n",
       "      <td>18</td>\n",
       "    </tr>\n",
       "    <tr>\n",
       "      <th>...</th>\n",
       "      <td>...</td>\n",
       "      <td>...</td>\n",
       "      <td>...</td>\n",
       "      <td>...</td>\n",
       "      <td>...</td>\n",
       "      <td>...</td>\n",
       "      <td>...</td>\n",
       "      <td>...</td>\n",
       "      <td>...</td>\n",
       "      <td>...</td>\n",
       "      <td>...</td>\n",
       "    </tr>\n",
       "    <tr>\n",
       "      <th>849</th>\n",
       "      <td>ZARAGOZA</td>\n",
       "      <td>ANTIOQUIA</td>\n",
       "      <td>77,944,352,400.00</td>\n",
       "      <td>1,694,442,443.48</td>\n",
       "      <td>1,554,716,953.00</td>\n",
       "      <td>863,883,245.54</td>\n",
       "      <td>267</td>\n",
       "      <td>5.80</td>\n",
       "      <td>6.00</td>\n",
       "      <td>1.92</td>\n",
       "      <td>46</td>\n",
       "    </tr>\n",
       "    <tr>\n",
       "      <th>850</th>\n",
       "      <td>ZARZAL</td>\n",
       "      <td>VALLE DEL CAUCA</td>\n",
       "      <td>22,865,346.00</td>\n",
       "      <td>879,436.38</td>\n",
       "      <td>733,329.00</td>\n",
       "      <td>885,107.44</td>\n",
       "      <td>33</td>\n",
       "      <td>1.27</td>\n",
       "      <td>1.00</td>\n",
       "      <td>0.53</td>\n",
       "      <td>26</td>\n",
       "    </tr>\n",
       "    <tr>\n",
       "      <th>851</th>\n",
       "      <td>ZETAQUIRA</td>\n",
       "      <td>BOYACA</td>\n",
       "      <td>41,859.00</td>\n",
       "      <td>20,929.50</td>\n",
       "      <td>20,929.50</td>\n",
       "      <td>18,573.57</td>\n",
       "      <td>2</td>\n",
       "      <td>1.00</td>\n",
       "      <td>1.00</td>\n",
       "      <td>0.00</td>\n",
       "      <td>2</td>\n",
       "    </tr>\n",
       "    <tr>\n",
       "      <th>852</th>\n",
       "      <td>ZIPAQUIRA</td>\n",
       "      <td>CUNDINAMARCA</td>\n",
       "      <td>11,853,105,060.00</td>\n",
       "      <td>263,402,334.67</td>\n",
       "      <td>101,407,038.00</td>\n",
       "      <td>375,484,196.59</td>\n",
       "      <td>138</td>\n",
       "      <td>3.07</td>\n",
       "      <td>3.00</td>\n",
       "      <td>1.18</td>\n",
       "      <td>45</td>\n",
       "    </tr>\n",
       "    <tr>\n",
       "      <th>853</th>\n",
       "      <td>ZONA BANANERA</td>\n",
       "      <td>MAGDALENA</td>\n",
       "      <td>10,247,603.00</td>\n",
       "      <td>683,173.53</td>\n",
       "      <td>384,051.00</td>\n",
       "      <td>718,951.88</td>\n",
       "      <td>38</td>\n",
       "      <td>2.53</td>\n",
       "      <td>2.00</td>\n",
       "      <td>0.99</td>\n",
       "      <td>15</td>\n",
       "    </tr>\n",
       "  </tbody>\n",
       "</table>\n",
       "<p>854 rows × 11 columns</p>\n",
       "</div>"
      ],
      "text/plain": [
       "              city               state  sum_transactions_value  \\\n",
       "0        ABEJORRAL           ANTIOQUIA          367,731,680.00   \n",
       "1           ABREGO  NORTE DE SANTANDER           39,316,798.00   \n",
       "2         ABRIAQUI           ANTIOQUIA          409,521,514.00   \n",
       "3          ACACIAS                META        1,048,395,762.00   \n",
       "4           ACANDI               CHOCO       11,553,386,769.00   \n",
       "..             ...                 ...                     ...   \n",
       "849       ZARAGOZA           ANTIOQUIA       77,944,352,400.00   \n",
       "850         ZARZAL     VALLE DEL CAUCA           22,865,346.00   \n",
       "851      ZETAQUIRA              BOYACA               41,859.00   \n",
       "852      ZIPAQUIRA        CUNDINAMARCA       11,853,105,060.00   \n",
       "853  ZONA BANANERA           MAGDALENA           10,247,603.00   \n",
       "\n",
       "     mean_transactions_value  median_transactions_value  \\\n",
       "0              12,257,722.67               5,682,074.50   \n",
       "1               1,191,418.12               1,041,894.00   \n",
       "2              14,121,431.52               9,186,757.00   \n",
       "3              24,381,296.79              19,119,631.00   \n",
       "4             641,854,820.50             423,595,357.50   \n",
       "..                       ...                        ...   \n",
       "849         1,694,442,443.48           1,554,716,953.00   \n",
       "850               879,436.38                 733,329.00   \n",
       "851                20,929.50                  20,929.50   \n",
       "852           263,402,334.67             101,407,038.00   \n",
       "853               683,173.53                 384,051.00   \n",
       "\n",
       "     std_transactions_value  sum_n_transactions  mean_n_transactions  \\\n",
       "0             17,677,666.01                  61                 2.03   \n",
       "1                875,453.51                  43                 1.30   \n",
       "2             17,024,154.20                  96                 3.31   \n",
       "3             17,974,589.55                 129                 3.00   \n",
       "4            803,314,986.18                  47                 2.61   \n",
       "..                      ...                 ...                  ...   \n",
       "849          863,883,245.54                 267                 5.80   \n",
       "850              885,107.44                  33                 1.27   \n",
       "851               18,573.57                   2                 1.00   \n",
       "852          375,484,196.59                 138                 3.07   \n",
       "853              718,951.88                  38                 2.53   \n",
       "\n",
       "     median_n_transactions  std_n_transactions  count_quarter  \n",
       "0                     2.00                1.10             30  \n",
       "1                     1.00                0.53             33  \n",
       "2                     2.00                1.67             29  \n",
       "3                     3.00                1.33             43  \n",
       "4                     3.00                1.33             18  \n",
       "..                     ...                 ...            ...  \n",
       "849                   6.00                1.92             46  \n",
       "850                   1.00                0.53             26  \n",
       "851                   1.00                0.00              2  \n",
       "852                   3.00                1.18             45  \n",
       "853                   2.00                0.99             15  \n",
       "\n",
       "[854 rows x 11 columns]"
      ]
     },
     "execution_count": 21,
     "metadata": {},
     "output_type": "execute_result"
    }
   ],
   "source": [
    "data_transaction"
   ]
  }
 ],
 "metadata": {
  "kernelspec": {
   "display_name": "venv",
   "language": "python",
   "name": "python3"
  },
  "language_info": {
   "codemirror_mode": {
    "name": "ipython",
    "version": 3
   },
   "file_extension": ".py",
   "mimetype": "text/x-python",
   "name": "python",
   "nbconvert_exporter": "python",
   "pygments_lexer": "ipython3",
   "version": "3.10.12"
  }
 },
 "nbformat": 4,
 "nbformat_minor": 2
}
